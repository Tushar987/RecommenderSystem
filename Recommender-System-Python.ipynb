{
 "cells": [
  {
   "cell_type": "markdown",
   "metadata": {
    "_cell_guid": "b581b109-b9dc-43de-94c0-c5b618eb7248",
    "_uuid": "b83e3d5da4b9b0c27c5c2897577fd3d3838575fc"
   },
   "source": [
    "# Recommender System\n",
    "\n",
    "We will be developing a movie recommender system based upon Collaborative-filtering to predict the name of the movie based upon the reviews of the other critics having similar taste. The systesm uses two different methods for finding similairties between the critics known as Euclidean-Distance-Score and Pearson-Correlation-Score. The final reault for both the methods were almost similar. After finding the similarity between critics, it uses the weighted average method to assign higher weight to the peer interest critics. Finally, It normalizes the score by deviding it by the similarities of the critics who reviewed that movie.\n",
    "\n",
    "\n",
    "#### Finding Similar DataPoint\n",
    "\n",
    "Two ways for calculating similarity scores : \n",
    "1. Euclidean Distance Score\n",
    "2. Pearson Correlation Score\n",
    "\n",
    "<hr style=\"height:2px\">"
   ]
  },
  {
   "cell_type": "code",
   "execution_count": null,
   "metadata": {
    "_cell_guid": "a07e42f4-0818-400d-a5ba-51eb0cf8869d",
    "_uuid": "a20677dcbb746e6fc779a38680ab31ff1e91fc2d",
    "collapsed": true
   },
   "outputs": [],
   "source": [
    "# Import Packages\n",
    "\n",
    "from math import sqrt\n",
    "import pandas as pd\n",
    "import numpy as np\n",
    "\n",
    "# Getting more than one output Line\n",
    "from IPython.core.interactiveshell import InteractiveShell\n",
    "InteractiveShell.ast_node_interactivity = \"all\""
   ]
  },
  {
   "cell_type": "code",
   "execution_count": null,
   "metadata": {
    "_cell_guid": "0a6d9cc6-0626-4d0f-ab43-eebf6923b543",
    "_uuid": "0d8d1a21ad6f618299f0d816071dfde5bbb33401",
    "collapsed": true
   },
   "outputs": [],
   "source": [
    "# Getting the Dataset\n",
    "\n",
    "movies= pd.read_csv(\"../input/movies.csv\",usecols=['movieId','title']) # ,nrows=5000)\n",
    "movies.describe(include='all')\n",
    "movies.head()\n",
    "\n",
    "ratings=pd.read_csv(\"../input/ratings.csv\",usecols=['userId','movieId','rating']) #,nrows=1000)\n",
    "ratings.describe(include='all')\n",
    "ratings.head()"
   ]
  },
  {
   "cell_type": "markdown",
   "metadata": {},
   "source": [
    "> ## **Descriptive Statistics**"
   ]
  },
  {
   "cell_type": "code",
   "execution_count": null,
   "metadata": {
    "collapsed": true
   },
   "outputs": [],
   "source": []
  },
  {
   "cell_type": "markdown",
   "metadata": {
    "_cell_guid": "b45ccf89-a723-4d3e-8d97-e17db28d562b",
    "_uuid": "7fb31889f951d541bce73b08526a801af4ce9ea2"
   },
   "source": [
    "> ## **Euclidean Distance Score**\n",
    "\n",
    "euclidean distance is the square root of the sum of squared differences between corresponding elements of the two vectors.Euclidean distance is only appropriate for data measured on the same scale.\n",
    "* distance = 1/(1+sqrt of sum of squares between two points)\n",
    "* value varies between 0 to 1, where closeness to 1 implies higher similarity.****"
   ]
  },
  {
   "cell_type": "code",
   "execution_count": null,
   "metadata": {
    "_cell_guid": "cf928267-a2db-4ebb-8688-67c3115a3141",
    "_uuid": "6b6dac4ebf65a65f29b3f89d3693304dc5451058",
    "collapsed": true
   },
   "outputs": [],
   "source": [
    "def euclidean_distance(person1,person2):\n",
    "    #Getting details of person1 and person2\n",
    "    df_first= ratings.loc[ratings.userId==person1]\n",
    "    df_second= ratings.loc[ratings.userId==person2]\n",
    "    \n",
    "    #Finding Similar Movies for person1 & person2 \n",
    "    ratings= pd.merge(df_first,df_second,how='inner',on='movieId')\n",
    "    \n",
    "    #If no similar movie found, return 0 (No Similarity)\n",
    "    if(len(ratings)==0): return 0\n",
    "    \n",
    "    #sum of squared difference between ratings\n",
    "    sum_of_squares=sum(pow((ratings['rating_x']-ratings['rating_y']),2))\n",
    "    return 1/(1+sum_of_squares)\n",
    "    \n",
    "# Checking working by passing similar ID, Corerelation should be 1\n",
    "euclidean_distance(1,1) # Swwweeettt!!!"
   ]
  },
  {
   "cell_type": "markdown",
   "metadata": {
    "_cell_guid": "755ff19e-2d1a-457e-95dd-1d1e58bc2d05",
    "_uuid": "bf380b693f13dec1bc6c262637f138297c7c50a6"
   },
   "source": [
    "> ## **Pearson Correlation Score** \n",
    "\n",
    "* Correlation between sets of data is a measure of how well they are related. It shows the linear relationship between two sets of data. In simple terms, it answers the question, Can I draw a line graph to represent the data?\n",
    "\n",
    "* * Value varies between -1 to 1.[ 0-> Not related ; -1 -> perfect negatively corelated ; 1-> perfect positively corelated] \n",
    "\n",
    "Slightly better than Euclidean because it addresses the the situation where the data isn't normalised. Like a User is giving high movie ratings in comparison to AVERAGE user."
   ]
  },
  {
   "cell_type": "code",
   "execution_count": null,
   "metadata": {
    "_cell_guid": "ff6bb08e-a3a6-4b05-8bc2-e585f09fa20c",
    "_uuid": "be66206dbe7a9882cdfd76a9ed50af1ee01ccdc4",
    "collapsed": true
   },
   "outputs": [],
   "source": [
    "def pearson_score(person1,person2):\n",
    "    \n",
    "    #Get detail for Person1 and Person2\n",
    "    df_first= ratings.loc[ratings.userId==person1]\n",
    "    df_second= ratings.loc[ratings.userId==person2]\n",
    "    \n",
    "    # Getting mutually rated items    \n",
    "    ratings= pd.merge(df_first,df_second,how='inner',on='movieId')\n",
    "    \n",
    "    # If no rating in common\n",
    "    n=len(ratings)\n",
    "    if n==0: return 0\n",
    "\n",
    "    #Adding up all the ratings\n",
    "    sum1=sum(ratings['rating_x'])\n",
    "    sum2=sum(ratings['rating_y'])\n",
    "    \n",
    "    ##Summing up squares of ratings\n",
    "    sum1_square= sum(pow(ratings['rating_x'],2))\n",
    "    sum2_square= sum(pow(ratings['rating_y'],2))\n",
    "    \n",
    "    # sum of products\n",
    "    product_sum= sum(ratings['rating_x']*ratings['rating_y'])\n",
    "    \n",
    "    ## Calculating Pearson Score\n",
    "    numerator= product_sum - (sum1*sum2/n)\n",
    "    denominator=sqrt((sum1_square- pow(sum1,2)/n) * (sum2_square - pow(sum2,2)/n))\n",
    "    if denominator==0: return 0\n",
    "    \n",
    "    r=numerator/denominator\n",
    "    \n",
    "    return r\n",
    "\n",
    "#Checking function by passing similar ID, Output should be 1\n",
    "pearson_score(1,1)"
   ]
  },
  {
   "cell_type": "markdown",
   "metadata": {
    "_cell_guid": "35d74ac1-0e7c-477e-b35c-26b9db522fa6",
    "_uuid": "8b09c32d4dd4dbc0f6b3d3e5655e05461052b092"
   },
   "source": [
    ">## **Getting result based on Pearson Score**"
   ]
  },
  {
   "cell_type": "code",
   "execution_count": null,
   "metadata": {
    "_cell_guid": "3d09ebbb-79a0-4b05-99f9-6e4b42017636",
    "_uuid": "3a84ccd12a25a9413165091fab722fa2c81757c3",
    "collapsed": true
   },
   "outputs": [],
   "source": [
    "# Returns the best matches for person from the prefs dictionary.\n",
    "# Number of results and similarity function are optional params.\n",
    "def topMatches(personId,n=5,similarity=pearson_score):\n",
    "    scores=[(similarity(personId,other),other) for other in ratings.loc[ratings['userId']!=personId]['userId']]\n",
    "    # Sort the list so the highest scores appear at the top\n",
    "    scores.sort( )\n",
    "    scores.reverse( )\n",
    "    return scores[0:n]\n",
    "\n",
    "topMatches(1,n=3) ## Getting 3 most similar Users for Example "
   ]
  },
  {
   "cell_type": "markdown",
   "metadata": {
    "_cell_guid": "79bedaa0-5d07-41e8-9381-493a96e8cece",
    "_uuid": "8f26eec8b46f5e3081929906ca3ff915361ae57c"
   },
   "source": [
    ">## **Getting Recommendation**"
   ]
  },
  {
   "cell_type": "code",
   "execution_count": null,
   "metadata": {
    "_cell_guid": "4c4b7f44-9378-42de-8de4-0fddd8dedbc0",
    "_uuid": "7963d301c9148a34c9ed20c5282d5ca18ca67d34",
    "collapsed": true
   },
   "outputs": [],
   "source": [
    "# Gets recommendations for a person by using a weighted average\n",
    "# of every other user's rankings\n",
    "def getRecommnedation(personId, similarity=pearson_score):\n",
    "    '''\n",
    "    totals: Dictionary containing sum of product of Movie Ratings by other user multiplied by weight(similarity)\n",
    "    simSums: Dictionary containung sum of weights for all the users who have rated that particular movie.\n",
    "    '''\n",
    "    totals,simSums= {},{}\n",
    "    \n",
    "    df_person= ratings.loc[ratings.userId==personId]\n",
    "    \n",
    "    for otherId in ratings.loc[ratings['userId']!=personId]['userId']: # all the UserID except personID\n",
    "        \n",
    "        # Getting Similarity with OtherID\n",
    "        sim=similarity(personId,otherId)\n",
    "        \n",
    "        # Ignores Score of Zero or Negatie correlation         \n",
    "        if sim<=0: continue\n",
    "            \n",
    "        df_other=ratings.loc[ratings.userId==otherId]\n",
    "        \n",
    "        #Movies not seen by the personID\n",
    "        movie=df_other[~df_other.isin(df_person).all(1)]\n",
    "        \n",
    "        for movieid,rating in (np.array(movie[['movieId','rating']])):\n",
    "            #similarity* Score\n",
    "            totals.setdefault(movieid,0)\n",
    "            totals[movieid]+=rating*sim\n",
    "            \n",
    "            #Sum of Similarities\n",
    "            simSums.setdefault(movieid,0)\n",
    "            simSums[movieid]+=sim\n",
    "            \n",
    "        \n",
    "        \n",
    "        \n",
    "        # Creating Normalized List\n",
    "        ranking=[(t/simSums[item],item) for item,t in totals.items()]\n",
    "        \n",
    "        # return the sorted List\n",
    "        ranking.sort()\n",
    "        ranking.reverse()\n",
    "        recommendedId=np.array([x[1] for x in ranking])\n",
    "        \n",
    "        \n",
    "        return np.array(movies[movies['movieId'].isin(recommendedId)]['title'])[:20]"
   ]
  },
  {
   "cell_type": "code",
   "execution_count": null,
   "metadata": {
    "_cell_guid": "2aff4ede-958a-4efd-80ce-fe460f4e074f",
    "_uuid": "987156b0b6608c5cfc031c1899bb0e5b0833fb98",
    "collapsed": true
   },
   "outputs": [],
   "source": [
    "# Example Recoomendation\n",
    "#returns 20 recommended movie for the given UserID\n",
    "# userId can be ranged from 1 to 671\n",
    "getRecommnedation(1)\n",
    "getRecommnedation(671)"
   ]
  },
  {
   "cell_type": "markdown",
   "metadata": {
    "_cell_guid": "ed3f9698-1db5-4200-8377-c872682278e0",
    "_uuid": "c94614d20e6d1f8e534796b337ea984306c8f98e"
   },
   "source": [
    "\n",
    "### ***Future Improvements***\n",
    "---\n",
    "* Applying more sophisticated similarities score methods to improve the suggestions.\n",
    "* Write a function to precompute user similarities, and alter the recommendation code to use only the top five other users to get recommendations.\n",
    "\n"
   ]
  }
 ],
 "metadata": {
  "kernelspec": {
   "display_name": "Python 3",
   "language": "python",
   "name": "python3"
  },
  "language_info": {
   "codemirror_mode": {
    "name": "ipython",
    "version": 3
   },
   "file_extension": ".py",
   "mimetype": "text/x-python",
   "name": "python",
   "nbconvert_exporter": "python",
   "pygments_lexer": "ipython3",
   "version": "3.6.1"
  }
 },
 "nbformat": 4,
 "nbformat_minor": 1
}
